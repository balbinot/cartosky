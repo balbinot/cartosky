{
 "cells": [
  {
   "cell_type": "markdown",
   "metadata": {},
   "source": [
    "<center>\n",
    "   Go back to the <a href=\"https://github.com/kadrlica/skymap/tree/master/examples/README.md\">Index</a>\n",
    "</center>"
   ]
  },
  {
   "cell_type": "markdown",
   "metadata": {},
   "source": [
    "# Chapter 2: Skymap Subclasses\n",
    "\n",
    "In this chapter we introduce the subclasses of `cartosky.Skymap` and explore some of their features for astronomical plotting.\n"
   ]
  },
  {
   "cell_type": "code",
   "execution_count": null,
   "metadata": {},
   "outputs": [],
   "source": [
    "# Basic notebook imports\n",
    "%matplotlib inline\n",
    "\n",
    "import matplotlib\n",
    "import pylab as plt\n",
    "import numpy as np\n",
    "import healpy as hp"
   ]
  },
  {
   "cell_type": "markdown",
   "metadata": {},
   "source": [
    "We start by importing several classes from `cartosky` and setting a few constants that we will use in this example."
   ]
  },
  {
   "cell_type": "code",
   "execution_count": null,
   "metadata": {},
   "outputs": [],
   "source": [
    "# Import skymap and some of it's basic map classes\n",
    "import cartosky\n",
    "\n",
    "from cartosky import Skymap,McBrydeSkymap,OrthoSkymap\n",
    "from cartosky import SurveySkymap,SurveyMcBryde,SurveyOrtho\n",
    "from cartosky import DESSkymap\n",
    "\n",
    "SKYMAPS = [Skymap,McBrydeSkymap,OrthoSkymap]\n",
    "SURVEYS = [SurveySkymap,SurveyMcBryde,SurveyOrtho]\n",
    "ZOOMS   = [DESSkymap]"
   ]
  },
  {
   "cell_type": "markdown",
   "metadata": {},
   "source": [
    "In the last tutorial we saw how we could create skymaps with different projections using the `projection` keyword argument to the `Skymap` initializer. However, for ease of use we have also defined a set of subclasses for commonly used projections."
   ]
  },
  {
   "cell_type": "code",
   "execution_count": null,
   "metadata": {},
   "outputs": [],
   "source": [
    "fig,axes = plt.subplots(1,3,figsize=(20,4))\n",
    "for i,cls in enumerate(SKYMAPS):\n",
    "    plt.sca(axes[i])\n",
    "    smap = cls()\n",
    "    plt.title(cls.__name__)"
   ]
  },
  {
   "cell_type": "code",
   "execution_count": null,
   "metadata": {},
   "outputs": [],
   "source": [
    "\n",
    "import cartopy.crs as ccrs\n",
    "import matplotlib.patches as mpatches\n",
    "\n",
    "fig,axes = plt.subplots(1,3,figsize=(20,4))\n",
    "ra  = [0,45,45,0,0]\n",
    "dec = [0,0,45,45,0]\n",
    "for i,cls in enumerate(SKYMAPS):\n",
    "    plt.sca(axes[i])\n",
    "    smap = cls()\n",
    "    smap.draw_polygon_radec(ra,dec)\n",
    "    smap.scatter(ra,dec)\n",
    "    smap.tissot(-10,-45,30,fc='none',ec='k')"
   ]
  },
  {
   "cell_type": "code",
   "execution_count": null,
   "metadata": {},
   "outputs": [],
   "source": [
    "fig,axes = plt.subplots(1,3,figsize=(20,4))\n",
    "ra  = [0,45,45,0,0]\n",
    "dec = [0,0,45,45,0]\n",
    "for i,cls in enumerate(SKYMAPS):\n",
    "    plt.sca(axes[i])\n",
    "    smap = cls()\n",
    "    smap.ax.tissot_indicatrices()"
   ]
  },
  {
   "cell_type": "markdown",
   "metadata": {},
   "source": [
    "In addition to facilitating the generation of specific projections, `Skymap` also has a number of astronomically oriented methods. For example, you can draw an outline of the Milky Way"
   ]
  },
  {
   "cell_type": "code",
   "execution_count": null,
   "metadata": {},
   "outputs": [],
   "source": [
    "fig,axes = plt.subplots(1,3,figsize=(20,4))\n",
    "for i,cls in enumerate(SKYMAPS):\n",
    "    plt.sca(axes[i])\n",
    "    smap = cls()\n",
    "    #smap.draw_milky_way()\n",
    "    smap.draw_lmc()\n",
    "    #smap.draw_smc()\n",
    "    plt.title(cls.__name__)"
   ]
  },
  {
   "cell_type": "markdown",
   "metadata": {},
   "source": [
    "In addition to methods to plot astronomical objects, `Skymap` has a number of methods to plot useful quantities when observing. (Careful, the 'cyl' projection can be a bit weird when the tissot used to plot the airmass crosses lon=0.)"
   ]
  },
  {
   "cell_type": "code",
   "execution_count": null,
   "metadata": {},
   "outputs": [],
   "source": [
    "fig,axes = plt.subplots(1,3,figsize=(20,4))\n",
    "for i,cls in enumerate(SKYMAPS):\n",
    "    plt.sca(axes[i])\n",
    "    smap = cls(date='2018/11/02 01:00:00')\n",
    "    #smap.draw_airmass(airmass=1.4,color='b')\n",
    "    smap.draw_zenith(alpha=1.0,radius=10.0,color='g')\n",
    "    #smap.draw_lmc()\n",
    "    #smap.draw_smc()"
   ]
  },
  {
   "cell_type": "markdown",
   "metadata": {},
   "source": [
    "In addition to the projection subclasses of `Skymap`, there are also survey-specific subclasses. The `SurveySkymap` object has a number of methods for plotting individual surveys."
   ]
  },
  {
   "cell_type": "code",
   "execution_count": null,
   "metadata": {},
   "outputs": [],
   "source": [
    "fig,axes = plt.subplots(1,3,figsize=(20,4))\n",
    "for i,cls in enumerate(SURVEYS):\n",
    "    plt.sca(axes[i])\n",
    "    smap = cls()\n",
    "    smap.draw_des(label='DES',edgecolor='k')\n",
    "    smap.draw_maglites(label='MagLiteS')\n",
    "    smap.draw_bliss(label='BLISS')\n",
    "    smap.ax.legend(loc='upper right')\n",
    "    plt.title('Footprints (%s)'%cls.__name__)\n",
    "    "
   ]
  },
  {
   "cell_type": "markdown",
   "metadata": {},
   "source": [
    "Many surveys don't span the entire sky and it is useful to zoom in on the region specifically covered. To do this, we use the `SurveyZoom` subclasses."
   ]
  },
  {
   "cell_type": "code",
   "execution_count": null,
   "metadata": {},
   "outputs": [],
   "source": [
    "plt.figure(figsize=(10,6))\n",
    "smap = DESSkymap()\n",
    "smap.draw_des(label='DES')\n",
    "smap.draw_maglites(label='MagLiteS')\n",
    "smap.draw_bliss(label='BLISS')\n",
    "plt.suptitle('DES Zoom Footprint')\n",
    "plt.legend(loc='upper left',fontsize=10)"
   ]
  },
  {
   "cell_type": "markdown",
   "metadata": {},
   "source": [
    "Unfortunately, the `ZoomSkymap` is rather fragile because it relies on an `AxisArtist` to plot the curvilinear coordinate grid. Hopefully we can make it more robust in the future."
   ]
  },
  {
   "cell_type": "markdown",
   "metadata": {},
   "source": [
    "<center>\n",
    "   Go back to the <a href=\"https://github.com/kadrlica/skymap/tree/master/examples/README.md\">Index</a>\n",
    "</center>"
   ]
  }
 ],
 "metadata": {
  "kernelspec": {
   "display_name": "Python 3",
   "language": "python",
   "name": "python3"
  },
  "language_info": {
   "codemirror_mode": {
    "name": "ipython",
    "version": 3
   },
   "file_extension": ".py",
   "mimetype": "text/x-python",
   "name": "python",
   "nbconvert_exporter": "python",
   "pygments_lexer": "ipython3",
   "version": "3.7.6"
  }
 },
 "nbformat": 4,
 "nbformat_minor": 2
}
