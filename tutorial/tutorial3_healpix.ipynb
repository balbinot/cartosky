{
 "cells": [
  {
   "cell_type": "markdown",
   "metadata": {},
   "source": [
    "<center>\n",
    "   Go back to the <a href=\"https://github.com/kadrlica/skymap/tree/master/examples/README.md\">Index</a>\n",
    "</center>"
   ]
  },
  {
   "cell_type": "markdown",
   "metadata": {},
   "source": [
    "# Tutorial 3: Cartosky and HEALPix\n",
    "\n",
    "In this tutorial we introduce the interface between `cartosky.Skymap` and [HEALPix](http://healpix.sf.net) ([Gorski et al. 2005](https://arxiv.org/abs/astro-ph/0409513)). The ability to accurately draw HEALPix maps with minimal overhead is one of the most powerful (and useful) feature of `cartosky`.\n"
   ]
  },
  {
   "cell_type": "code",
   "execution_count": null,
   "metadata": {},
   "outputs": [],
   "source": [
    "# Basic notebook imports\n",
    "%matplotlib inline\n",
    "\n",
    "import matplotlib\n",
    "import pylab as plt\n",
    "import numpy as np\n",
    "import healpy as hp"
   ]
  },
  {
   "cell_type": "markdown",
   "metadata": {},
   "source": [
    "We start by importing several classes from `cartosky` and setting a few constants that we will use in this example. By this point, these modules and classes should be familiar."
   ]
  },
  {
   "cell_type": "code",
   "execution_count": null,
   "metadata": {},
   "outputs": [],
   "source": [
    "import cartosky\n",
    "from cartosky import Skymap,McBrydeSkymap,OrthoSkymap\n",
    "from cartosky import SurveySkymap,SurveyMcBryde,SurveyOrtho\n",
    "from cartosky import DESSkymap\n",
    "\n",
    "SKYMAPS = [Skymap,McBrydeSkymap,OrthoSkymap]\n",
    "SURVEYS = [SurveySkymap,SurveyMcBryde,SurveyOrtho]\n",
    "\n",
    "NSIDE = 8"
   ]
  },
  {
   "cell_type": "markdown",
   "metadata": {},
   "source": [
    "We start off by creating and drawing a simple, low-resolution HEALPix map in ring format."
   ]
  },
  {
   "cell_type": "code",
   "execution_count": null,
   "metadata": {},
   "outputs": [],
   "source": [
    "hpxmap = np.arange(hp.nside2npix(NSIDE))\n",
    "fig,axes = plt.subplots(1,3,figsize=(20,4))\n",
    "for i,cls in enumerate(SKYMAPS):\n",
    "    plt.sca(axes[i])\n",
    "    m = cls()\n",
    "    m.draw_hpxmap(hpxmap,xsize=200)\n",
    "    plt.title('HEALPix Map (%s)'%cls.__name__)"
   ]
  },
  {
   "cell_type": "markdown",
   "metadata": {},
   "source": [
    "This is nothing special compared to what you can do with [`healpy.visfunc`](https://healpy.readthedocs.io/en/latest/healpy_visu.html), but remember that `cartosky` gives you access to the underlying power of `PROJ`."
   ]
  },
  {
   "cell_type": "code",
   "execution_count": null,
   "metadata": {},
   "outputs": [],
   "source": [
    "hpxmap = np.arange(hp.nside2npix(NSIDE))\n",
    "fig,axes = plt.subplots(1,3,figsize=(20,4))\n",
    "for i,proj in enumerate(['sinu','kav7','igh']):\n",
    "    plt.sca(axes[i])\n",
    "    smap = Skymap(projection=proj,lon_0=0)\n",
    "    im,lon,lat,values = smap.draw_hpxmap(hpxmap,xsize=200)\n",
    "    plt.title('HEALPix Map (%s)'%proj)"
   ]
  },
  {
   "cell_type": "markdown",
   "metadata": {},
   "source": [
    "The `draw_hpxmap` function returns the image, longitude and latitude of each pixel, and the values of each pixel. You can take that output and draw it yourself if you like."
   ]
  },
  {
   "cell_type": "code",
   "execution_count": null,
   "metadata": {},
   "outputs": [],
   "source": [
    "plt.figure()\n",
    "plt.pcolormesh(lon,lat,values)"
   ]
  },
  {
   "cell_type": "markdown",
   "metadata": {},
   "source": [
    "The `draw_hpxmap` function can also take a partial HEALPix map where the pixels and values are specified explicitly."
   ]
  },
  {
   "cell_type": "code",
   "execution_count": null,
   "metadata": {},
   "outputs": [],
   "source": [
    "pix = hpxmap = np.arange(525,535)\n",
    "fig,axes = plt.subplots(1,3,figsize=(20,4))\n",
    "for i,cls in enumerate(SKYMAPS):\n",
    "    plt.sca(axes[i])\n",
    "    m = cls()\n",
    "    m.draw_hpxmap(hpxmap,pix,NSIDE,xsize=200)\n",
    "    plt.title('Partial HEALPix Map (%s)'%cls.__name__)"
   ]
  },
  {
   "cell_type": "markdown",
   "metadata": {},
   "source": [
    "Notice that in the above maps all pixels that are not explicitly specified are masked by `draw_hpxmap`. The same behavior can be accomplished by setting HEALPix values to `np.NaN`, `hp.UNSEEN` or by using the `numpy.MaskedArray` module."
   ]
  },
  {
   "cell_type": "code",
   "execution_count": null,
   "metadata": {},
   "outputs": [],
   "source": [
    "pix = np.arange(525,535)\n",
    "\n",
    "fig,axes = plt.subplots(1,3,figsize=(20,4))\n",
    "plt.sca(axes[0])\n",
    "smap = McBrydeSkymap()\n",
    "hpxmap = hp.UNSEEN * np.ones(hp.nside2npix(NSIDE))\n",
    "hpxmap[pix] = pix\n",
    "smap.draw_hpxmap(hpxmap,xsize=400)\n",
    "\n",
    "plt.sca(axes[1])\n",
    "smap = McBrydeSkymap()\n",
    "hpxmap = np.nan * np.ones(hp.nside2npix(NSIDE))\n",
    "hpxmap[pix] = pix\n",
    "smap.draw_hpxmap(hpxmap,xsize=400)\n",
    "\n",
    "plt.sca(axes[2])\n",
    "smap = McBrydeSkymap()\n",
    "hpxmap = np.arange(hp.nside2npix(NSIDE))\n",
    "hpxmap = np.ma.array(hpxmap, mask=~np.in1d(hpxmap,pix))\n",
    "out = smap.draw_hpxmap(hpxmap,xsize=400)"
   ]
  },
  {
   "cell_type": "markdown",
   "metadata": {},
   "source": [
    "We have also implemented a HEALPix analog to the [`matplotlib.hexbin`](https://matplotlib.org/devdocs/api/_as_gen/matplotlib.axes.Axes.hexbin.html) function called `hpxbin` (this function returns the healpix map in addition to image and associated pixel values)."
   ]
  },
  {
   "cell_type": "code",
   "execution_count": null,
   "metadata": {},
   "outputs": [],
   "source": [
    "# These are random, non-uniform points\n",
    "size = int(1e5)\n",
    "lon = np.random.uniform(0,360,size=size)\n",
    "lat = np.random.uniform(-90,90,size=size)\n",
    "\n",
    "fig,axes = plt.subplots(1,3,figsize=(20,4))\n",
    "for i,cls in enumerate(SKYMAPS):\n",
    "    plt.sca(axes[i])\n",
    "    smap = cls()                                                  \n",
    "    hpxmap,(im,lon,lat,values) = smap.draw_hpxbin(lon,lat,nside=16,xsize=200)\n",
    "    plt.title('HEALPix Binning (%s)'%cls.__name__)"
   ]
  },
  {
   "cell_type": "markdown",
   "metadata": {},
   "source": [
    "Because `cartosky` can draw partial HEALPix maps with explicit pixel labeling, it is possible to draw small regions of the sky much more efficiently the `healpy`. The true power comes in the ability to plot ultra-high resolution HEALPix maps (nside > 1e5). This would take an enormous amount of memory if you needed to create the entire map. Notice the change in the axes ranges in the plots below."
   ]
  },
  {
   "cell_type": "code",
   "execution_count": null,
   "metadata": {},
   "outputs": [],
   "source": [
    "import cartosky.healpix\n",
    "\n",
    "ra,dec = 45,-45\n",
    "fig,axes = plt.subplots(1,3,figsize=(15,4))\n",
    "\n",
    "for i,nside in enumerate([512,4096,4096*2**5]):\n",
    "    radius = np.degrees(50*hp.nside2resol(nside))\n",
    "    pixels = cartosky.healpix.ang2disc(nside,ra,dec,radius)\n",
    "    values = pixels\n",
    "    \n",
    "    plt.sca(axes[i])\n",
    "\n",
    "    # Use the Plate-Carree projection, then zoom.\n",
    "    m = Skymap(projection='cyl')\n",
    "    llcrnrlon,urcrnrlon=ra+1.5*radius,ra-1.5*radius,\n",
    "    llcrnrlat,urcrnrlat=dec-1.2*radius,dec+1.2*radius\n",
    "    m.ax.set_extent([llcrnrlon,urcrnrlon,llcrnrlat,urcrnrlat])\n",
    "\n",
    "    m.draw_hpxmap(values,pixels,nside=nside,xsize=400)\n",
    "    m.grid.bottom_labels = True\n",
    "    m.grid.left_labels = True\n",
    "\n",
    "    plt.title('HEALPix Zoom (nside=%i)'%nside)"
   ]
  },
  {
   "cell_type": "markdown",
   "metadata": {},
   "source": [
    "<center>\n",
    "   Go back to the <a href=\"https://github.com/kadrlica/skymap/tree/master/examples/README.md\">Index</a>\n",
    "</center>"
   ]
  }
 ],
 "metadata": {
  "kernelspec": {
   "display_name": "Python 3",
   "language": "python",
   "name": "python3"
  },
  "language_info": {
   "codemirror_mode": {
    "name": "ipython",
    "version": 3
   },
   "file_extension": ".py",
   "mimetype": "text/x-python",
   "name": "python",
   "nbconvert_exporter": "python",
   "pygments_lexer": "ipython3",
   "version": "3.7.6"
  }
 },
 "nbformat": 4,
 "nbformat_minor": 2
}
