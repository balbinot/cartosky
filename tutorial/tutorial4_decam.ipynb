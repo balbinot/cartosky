{
 "cells": [
  {
   "cell_type": "markdown",
   "metadata": {},
   "source": [
    "<center>\n",
    "   Go back to the <a href=\"https://github.com/kadrlica/skymap/tree/master/examples/README.md\">Index</a>\n",
    "</center>"
   ]
  },
  {
   "cell_type": "markdown",
   "metadata": {},
   "source": [
    "# Tutorial 4: Skymap and DECam\n",
    "\n",
    "In this tutorial we show how `cartosky` can interface with different astronomical surveys and instruments. Here, we specifically examine some of the features for the Dark Energy Survey (DES; [DES Collaboration 2005](https://arxiv.org/abs/astro-ph/0510346)) and the Dark Energy Camera (DECam; [Flaugher et al. 2015](https://arxiv.org/abs/1504.02900)).\n"
   ]
  },
  {
   "cell_type": "code",
   "execution_count": null,
   "metadata": {},
   "outputs": [],
   "source": [
    "# Basic notebook imports\n",
    "%matplotlib inline\n",
    "\n",
    "import os\n",
    "import matplotlib\n",
    "import pylab as plt\n",
    "import numpy as np\n",
    "import healpy as hp"
   ]
  },
  {
   "cell_type": "markdown",
   "metadata": {},
   "source": [
    "We start by importing several classes from the skymap module and setting a few constants that we will use in this example. By this point, these modules and classes should be familiar."
   ]
  },
  {
   "cell_type": "code",
   "execution_count": null,
   "metadata": {},
   "outputs": [],
   "source": [
    "import cartosky\n",
    "from cartosky.constants import FIGSIZE,SCALE,DPI,DECAM\n",
    "from cartosky.utils import get_datadir\n",
    "from cartosky import SurveyMcBryde\n",
    "from cartosky import DESSkymap\n",
    "\n",
    "NSIDE = 64"
   ]
  },
  {
   "cell_type": "markdown",
   "metadata": {},
   "source": [
    "When plotting DES data, it is often convenient to use an inset colorbar placed between the SPT and Stripe82 regions. This is demonstrated with `DESSkymap` below."
   ]
  },
  {
   "cell_type": "code",
   "execution_count": null,
   "metadata": {},
   "outputs": [],
   "source": [
    "filename = os.path.join(get_datadir(),'des-round13-poly.txt')\n",
    "vertices = np.loadtxt(filename)\n",
    "vertices[:,0] -= 360*(vertices[:,0] > 180)\n",
    "path = matplotlib.path.Path(vertices)\n",
    "\n",
    "hpxmap = hp.UNSEEN*np.ones(hp.nside2npix(NSIDE))\n",
    "pixels = np.arange(hp.nside2npix(NSIDE))\n",
    "ra,dec = hp.pix2ang(NSIDE,pixels,lonlat=True)\n",
    "ra -= 360*(ra > 180)\n",
    "sel = path.contains_points(np.array([ra,dec]).T)\n",
    "\n",
    "hpxmap[sel] = pixels[sel]\n",
    "\n",
    "fig = plt.figure(figsize=FIGSIZE)\n",
    "smap = DESSkymap()\n",
    "smap.draw_hpxmap(hpxmap,xsize=400)\n",
    "smap.draw_inset_colorbar(ticks=[2.6e4,4.2e4])\n",
    "smap.draw_des13(edgecolor='k',alpha=0.5)"
   ]
  },
  {
   "cell_type": "markdown",
   "metadata": {},
   "source": [
    "We have implemented several tools to plot the DECam focal plane. The first uses a quick and dirty scatter plot. Beware, the scatter points do not scale if the figure or axis is resized!"
   ]
  },
  {
   "cell_type": "code",
   "execution_count": null,
   "metadata": {},
   "outputs": [],
   "source": [
    "ra = dec = np.arange(-30,30)\n",
    "band = 20*['g']+20*['r']+20*['z']\n",
    "fields = np.rec.fromarrays([ra,dec,band],dtype=[('ra',float),('dec',float),('band',object)])\n",
    "\n",
    "# Careful, the scatter point size depends on the figure and is currently not accurate\n",
    "plt.figure(figsize=FIGSIZE,dpi=DPI)\n",
    "smap = SurveyMcBryde()\n",
    "smap.draw_fields(fields,alpha=0.5,s=30)\n",
    "\n",
    "# The way to check that the size is ok is to use a tissot with prescribed radius\n",
    "for x,y in [(-30,-30),(0,0),(30,30)]:\n",
    "    smap.tissot(x,y,DECAM,edgecolor='k',facecolor='none')"
   ]
  },
  {
   "cell_type": "markdown",
   "metadata": {},
   "source": [
    "The second plotting uses a much more accurate (but slower) `PolygonCollection` to represent the focal plane at CCD level."
   ]
  },
  {
   "cell_type": "code",
   "execution_count": null,
   "metadata": {},
   "outputs": [],
   "source": [
    "ra,dec = 45,-45\n",
    "radius = 1.5\n",
    "delta = 1.0\n",
    "\n",
    "plt.figure(figsize=(8,8))\n",
    "                               \n",
    "m = cartosky.Skymap(projection='cyl', celestial=False, gridlines=False)\n",
    "llcrnrlon,urcrnrlon = ra+2*radius, ra-2*radius\n",
    "llcrnrlat,urcrnrlat = dec-2*radius, dec+2*radius\n",
    "m.ax.set_extent([llcrnrlon,urcrnrlon,llcrnrlat,urcrnrlat])\n",
    "\n",
    "# Can plot individual fields                                                                      \n",
    "m.draw_focal_planes([ra+delta/2],[dec-delta/2],color='g')\n",
    "# Or as arrays                                                                                    \n",
    "m.draw_focal_planes([ra,ra-delta,ra-delta],[dec,dec+delta,dec-delta],color='r')\n",
    "\n",
    "# Draw the approximate focal plane\n",
    "m.tissot(ra,dec,1.1,ec='g',fc='none')\n",
    "\n",
    "## Draw the grid lines                                                                            \n",
    "draw_labels = True\n",
    "xlocs = np.linspace(llcrnrlon,urcrnrlon,5)\n",
    "ylocs = np.linspace(llcrnrlat,urcrnrlat,5)\n",
    "m.ax.gridlines(draw_labels=draw_labels,\n",
    "               xlocs=xlocs,ylocs=ylocs,\n",
    "               linestyle=':')\n",
    "\n",
    "# ADW: This doesn't work (removes y-labels)...                                                    \n",
    "#m.ax.invert_xaxis()                                                                              \n",
    "\n",
    "plt.title('DECam Focal Planes')"
   ]
  },
  {
   "cell_type": "markdown",
   "metadata": {},
   "source": [
    "<center>\n",
    "   Go back to the <a href=\"https://github.com/kadrlica/skymap/tree/master/examples/README.md\">Index</a>\n",
    "</center>"
   ]
  }
 ],
 "metadata": {
  "kernelspec": {
   "display_name": "Python 3",
   "language": "python",
   "name": "python3"
  },
  "language_info": {
   "codemirror_mode": {
    "name": "ipython",
    "version": 3
   },
   "file_extension": ".py",
   "mimetype": "text/x-python",
   "name": "python",
   "nbconvert_exporter": "python",
   "pygments_lexer": "ipython3",
   "version": "3.7.6"
  }
 },
 "nbformat": 4,
 "nbformat_minor": 2
}
