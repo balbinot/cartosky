{
 "cells": [
  {
   "cell_type": "markdown",
   "metadata": {},
   "source": [
    "<center>\n",
    "   Go back to the <a href=\"https://github.com/kadrlica/skymap/tree/master/examples/README.md\">Index</a>\n",
    "</center>"
   ]
  },
  {
   "cell_type": "markdown",
   "metadata": {},
   "source": [
    "# Tutorial 5: HealSparse Maps\n",
    "\n",
    "[HealSparse](https://healsparse.readthedocs.io/en/latest/index.html) provides a convenient and memory-efficient way to work with high-resolution healpix maps. Cartosky provides an interface for plotting HealSparse maps. In the future, CartoSky may internally depend on HealSparse for working with all HEALPix maps."
   ]
  },
  {
   "cell_type": "code",
   "execution_count": null,
   "metadata": {},
   "outputs": [],
   "source": [
    "import numpy as np\n",
    "import matplotlib as mpl\n",
    "import matplotlib.pyplot as plt\n",
    "\n",
    "import healpy as hp\n",
    "import cartosky as csky\n",
    "\n",
    "import healsparse as hsp"
   ]
  },
  {
   "cell_type": "code",
   "execution_count": null,
   "metadata": {},
   "outputs": [],
   "source": [
    "# Create a HealSparseMap\n",
    "nside_coverage=16\n",
    "nside_sparse=512\n",
    "hspmap = hsp.HealSparseMap.make_empty(nside_coverage, nside_sparse, dtype=np.float)\n",
    "# Cartosky convenience function for getting pixels in a disc\n",
    "pixels = csky.healpix.ang2disc(nside_sparse, lon=180, lat=-30, radius=40, nest=True, inclusive=True)\n",
    "hspmap.update_values_pix(pixels, pixels.astype(float))\n",
    "print(hspmap)"
   ]
  },
  {
   "cell_type": "code",
   "execution_count": null,
   "metadata": {},
   "outputs": [],
   "source": [
    "# Make sure the HealSparseMap look reasonable\n",
    "hpxmap = hspmap.generate_healpix_map(nside=nside_sparse)\n",
    "hpxmap = hp.reorder(hpxmap,n2r=True)\n",
    "# Use 'inferno' because healpy messes with the colormap...\n",
    "# https://github.com/healpy/healpy/issues/622\n",
    "hp.mollview(hpxmap,rot=(180,0,0),badcolor='w',cmap='inferno')\n",
    "hp.graticule()"
   ]
  },
  {
   "cell_type": "code",
   "execution_count": null,
   "metadata": {},
   "outputs": [],
   "source": [
    "# Draw the healsparse map\n",
    "plt.figure(figsize=(16,8))\n",
    "smap = csky.SurveyMcBryde(lon_0=180,gridlines=False)\n",
    "im,lon,lat,val = smap.ax.hspmap(hspmap)\n",
    "plt.colorbar(label=\"Number of Exposures\",orientation='horizontal',fraction=0.05)\n",
    "smap.ax.gridlines() # cartopy gridlines...\n",
    "\n",
    "# Draw some other survey footprints\n",
    "smap.draw_des(lw=3,facecolor='red',alpha=0.2)\n",
    "smap.draw_des_sn(edgecolor='r',facecolor='r',alpha=0.2)\n",
    "smap.draw_decals(lw=3,edgecolor='gray',facecolor='gray',alpha=0.2)"
   ]
  },
  {
   "cell_type": "code",
   "execution_count": null,
   "metadata": {},
   "outputs": [],
   "source": [
    "# Zoom in a bit\n",
    "plt.figure(figsize=(16,8))\n",
    "smap = csky.SurveySkymap(lon_0=180,allsky=False,gridlines=False)\n",
    "im,lon,lat,val = smap.ax.hspmap(hspmap,lonra=[110,275],latra=[-55,2])\n",
    "plt.colorbar(ax=smap.ax,label=\"Pixel Value\",fraction=0.02)\n",
    "smap.ax.gridlines()\n",
    "\n",
    "# Draw DECaLS\n",
    "smap.draw_decals(lw=0,facecolor='gray',alpha=0.2)\n",
    "smap.draw_decals(lw=3,edgecolor='gray')\n"
   ]
  },
  {
   "cell_type": "code",
   "execution_count": null,
   "metadata": {},
   "outputs": [],
   "source": [
    "plt.figure(figsize=(8,5))\n",
    "smap = csky.Skymap(allsky=False,gridlines=False)\n",
    "im,lon,lat,val = smap.ax.hspmap(hspmap,lonra=[165,165.5],latra=[-15,-15.5])\n",
    "plt.colorbar(label=\"Pixel Value\")\n",
    "smap.ax.gridlines()"
   ]
  },
  {
   "cell_type": "markdown",
   "metadata": {},
   "source": [
    "<center>\n",
    "   Go back to the <a href=\"https://github.com/kadrlica/skymap/tree/master/examples/README.md\">Index</a>\n",
    "</center>"
   ]
  }
 ],
 "metadata": {
  "kernelspec": {
   "display_name": "Python 3",
   "language": "python",
   "name": "python3"
  },
  "language_info": {
   "codemirror_mode": {
    "name": "ipython",
    "version": 3
   },
   "file_extension": ".py",
   "mimetype": "text/x-python",
   "name": "python",
   "nbconvert_exporter": "python",
   "pygments_lexer": "ipython3",
   "version": "3.7.7"
  }
 },
 "nbformat": 4,
 "nbformat_minor": 4
}
