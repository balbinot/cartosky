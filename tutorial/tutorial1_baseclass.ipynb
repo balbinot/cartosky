{
 "cells": [
  {
   "cell_type": "markdown",
   "metadata": {},
   "source": [
    "<center>\n",
    "   Go back to the <a href=\"https://github.com/kadrlica/skymap/tree/master/examples/README.md\">Index</a>\n",
    "</center>"
   ]
  },
  {
   "cell_type": "markdown",
   "metadata": {},
   "source": [
    "# Chapter 1: Skymap Base Class\n",
    "\n",
    "In this chapter we introduce the `cartosky.Skymap` base class and some of it's features.\n"
   ]
  },
  {
   "cell_type": "code",
   "execution_count": null,
   "metadata": {},
   "outputs": [],
   "source": [
    "# Basic notebook imports\n",
    "%matplotlib inline\n",
    "\n",
    "import matplotlib\n",
    "import matplotlib.ticker as mticker\n",
    "\n",
    "import pylab as plt\n",
    "import numpy as np\n",
    "import healpy as hp"
   ]
  },
  {
   "cell_type": "markdown",
   "metadata": {},
   "source": [
    "We start by importing several classes from the skymap module and setting a few constants that we will use in this example."
   ]
  },
  {
   "cell_type": "code",
   "execution_count": null,
   "metadata": {},
   "outputs": [],
   "source": [
    "# Import cartosky\n",
    "import cartosky"
   ]
  },
  {
   "cell_type": "markdown",
   "metadata": {},
   "source": [
    "At it's core, `cartosky` is a wrapper around [`cartopy`](http://matplotlib.org/cartopy/). The core class `cartosky.Skymap` has its roots in the [`skymap`](https://github.com/kadrlica/skymap) package, which inherited from [`mpl_toolkits.basemap`](https://matplotlib.org/basemap/). When `basemap` reached EoL, `cartosky` was born!"
   ]
  },
  {
   "cell_type": "markdown",
   "metadata": {},
   "source": [
    "Following `basemap`, the default projection for a `cartosky.Skymap` is Plate-Carree or \"Cylindrical Equidistant\" ('cyl') projection, which you may commonly think of as Cartesian mapping. Creating a basic map of the sky is as easy as creating a instance of the `cartosky.Skymap` class. "
   ]
  },
  {
   "cell_type": "code",
   "execution_count": null,
   "metadata": {},
   "outputs": [],
   "source": [
    "smap = cartosky.Skymap()\n",
    "\n",
    "def skymap_test(smap):\n",
    "    \"\"\" Some simple test cases. \"\"\"\n",
    "    # Draw some scatter points\n",
    "    smap.scatter([0,45,-30],[0,-45,-30])\n",
    "    # Draw a color mesh image (careful, basemap is quirky)\n",
    "    x = y = np.arange(30,60)\n",
    "    xx,yy = np.meshgrid(x,y)\n",
    "    zz = xx*yy\n",
    "    smap.pcolormesh(xx,yy,zz,cmap='gray_r')\n",
    "\n",
    "skymap_test(smap)"
   ]
  },
  {
   "cell_type": "markdown",
   "metadata": {},
   "source": [
    "The example above is not very impressive in the 'cyl' projection, but the power of `cartopy` is that it allows you a much broader range of projections."
   ]
  },
  {
   "cell_type": "code",
   "execution_count": null,
   "metadata": {},
   "outputs": [],
   "source": [
    "fig,axes = plt.subplots(2,2,figsize=(14,8))\n",
    "\n",
    "# A nice projection for plotting the visible sky\n",
    "plt.sca(axes[0,0])\n",
    "smap = cartosky.Skymap(projection='ortho',lon_0=0, lat_0=0)\n",
    "skymap_test(smap)\n",
    "plt.title('Orthographic')\n",
    "\n",
    "# A common equal area all-sky projection\n",
    "plt.sca(axes[1,0])\n",
    "smap = cartosky.Skymap(projection='hammer',lon_0=0, lat_0=0)\n",
    "skymap_test(smap)\n",
    "plt.title(\"Hammer-Aitoff\")\n",
    "\n",
    "# Something wacky that I've never used\n",
    "plt.sca(axes[0,1])\n",
    "smap = cartosky.Skymap(projection='sinu')\n",
    "skymap_test(smap)\n",
    "plt.title(\"Sinusoidal\")\n",
    "\n",
    "# My favorite projection for DES\n",
    "plt.sca(axes[1,1])\n",
    "smap = cartosky.Skymap(projection='mbtfpq')\n",
    "skymap_test(smap)\n",
    "plt.title(\"McBryde-Thomas Flat Polar Quartic\")"
   ]
  },
  {
   "cell_type": "markdown",
   "metadata": {},
   "source": [
    "<center>\n",
    "   Go back to the <a href=\"https://github.com/kadrlica/skymap/tree/master/examples/README.md\">Index</a>\n",
    "</center>"
   ]
  }
 ],
 "metadata": {
  "kernelspec": {
   "display_name": "Python 3",
   "language": "python",
   "name": "python3"
  },
  "language_info": {
   "codemirror_mode": {
    "name": "ipython",
    "version": 3
   },
   "file_extension": ".py",
   "mimetype": "text/x-python",
   "name": "python",
   "nbconvert_exporter": "python",
   "pygments_lexer": "ipython3",
   "version": "3.7.6"
  }
 },
 "nbformat": 4,
 "nbformat_minor": 2
}
